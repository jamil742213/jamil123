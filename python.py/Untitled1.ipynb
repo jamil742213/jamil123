{
 "cells": [
  {
   "cell_type": "code",
   "execution_count": 9,
   "id": "2650dc98",
   "metadata": {},
   "outputs": [
    {
     "name": "stdout",
     "output_type": "stream",
     "text": [
      "Factorial of 5 is None\n",
      "Factorial of 5 is None\n",
      "Factorial of 5 is None\n",
      "Factorial of 5 is None\n"
     ]
    }
   ],
   "source": [
    "def factorial(n):\n",
    "    if n < 0:\n",
    "        return 0\n",
    "    elif n == 0 or n == 1:\n",
    "        return 1\n",
    "    else:\n",
    "        fact = 1\n",
    "        while(n > 1):\n",
    "            fact *= n\n",
    "            n -= 1\n",
    "        return fact\n",
    " \n",
    "# Driver Code\n",
    "jam =[]\n",
    "num = 5;\n",
    "for i in range(num-1):\n",
    "    print(\"Factorial of\",num,\"is\",\n",
    "    jam.append(factorial(num)))"
   ]
  },
  {
   "cell_type": "code",
   "execution_count": 16,
   "id": "e2df91c7",
   "metadata": {},
   "outputs": [
    {
     "name": "stdout",
     "output_type": "stream",
     "text": [
      "5\n",
      "a! = 120\n",
      "a! = 120\n",
      "a! = 120\n"
     ]
    }
   ],
   "source": [
    "#created by TeckgeekARJ\n",
    "#using modules\n",
    "import math\n",
    "\n",
    "a=int(input())\n",
    "b=math.factorial(a)\n",
    "print ('a! =',b)\n",
    "\n",
    "\n",
    "#using loop\n",
    "e=1\n",
    "for d in range(a,1,-1):\n",
    "    e=d*e\n",
    "    \n",
    "print ('a! =',e)\n",
    "\n",
    "\n",
    "#using recursive function\n",
    "\n",
    "def fact(a):\n",
    "    if a==0:\n",
    "       return 1\n",
    "    else:\n",
    "        return a*fact(a-1)\n",
    "        \n",
    "f=fact(a)      \n",
    "print ('a! =',f)"
   ]
  },
  {
   "cell_type": "code",
   "execution_count": 13,
   "id": "37ed53a1",
   "metadata": {},
   "outputs": [
    {
     "name": "stdout",
     "output_type": "stream",
     "text": [
      "5\n",
      "[5, 20, 60, 120]\n"
     ]
    }
   ],
   "source": [
    "list1 = []\n",
    "a=int(input())\n",
    "e=1\n",
    "for d in range(a,1,-1):\n",
    "    e=d*e\n",
    "    list1.append(e)\n",
    "#     print ('a! =',e)\n",
    "# list1.append(e)\n",
    "print(list1)"
   ]
  },
  {
   "cell_type": "code",
   "execution_count": 17,
   "id": "17b342e5",
   "metadata": {},
   "outputs": [
    {
     "ename": "TypeError",
     "evalue": "'tuple' object does not support item assignment",
     "output_type": "error",
     "traceback": [
      "\u001b[0;31m---------------------------------------------------------------------------\u001b[0m",
      "\u001b[0;31mTypeError\u001b[0m                                 Traceback (most recent call last)",
      "\u001b[0;32m/tmp/ipykernel_2301/2128914545.py\u001b[0m in \u001b[0;36m<module>\u001b[0;34m\u001b[0m\n\u001b[1;32m      1\u001b[0m \u001b[0mT1\u001b[0m\u001b[0;34m=\u001b[0m\u001b[0;34m(\u001b[0m\u001b[0;36m1\u001b[0m\u001b[0;34m,\u001b[0m\u001b[0;34m)\u001b[0m\u001b[0;34m*\u001b[0m\u001b[0;36m3\u001b[0m\u001b[0;34m\u001b[0m\u001b[0;34m\u001b[0m\u001b[0m\n\u001b[0;32m----> 2\u001b[0;31m \u001b[0mT1\u001b[0m\u001b[0;34m[\u001b[0m\u001b[0;36m0\u001b[0m\u001b[0;34m]\u001b[0m\u001b[0;34m=\u001b[0m\u001b[0;36m2\u001b[0m\u001b[0;34m\u001b[0m\u001b[0;34m\u001b[0m\u001b[0m\n\u001b[0m\u001b[1;32m      3\u001b[0m \u001b[0mprint\u001b[0m\u001b[0;34m(\u001b[0m\u001b[0mT1\u001b[0m\u001b[0;34m)\u001b[0m\u001b[0;34m\u001b[0m\u001b[0;34m\u001b[0m\u001b[0m\n",
      "\u001b[0;31mTypeError\u001b[0m: 'tuple' object does not support item assignment"
     ]
    }
   ],
   "source": [
    "T1=(1,)*3\n",
    "T1[0]=2\n",
    "print(T1)"
   ]
  },
  {
   "cell_type": "code",
   "execution_count": 19,
   "id": "344a8765",
   "metadata": {},
   "outputs": [
    {
     "name": "stdout",
     "output_type": "stream",
     "text": [
      "True\n"
     ]
    }
   ],
   "source": [
    "TupleA='m','n'\n",
    "TupleB=('m','n')\n",
    "print(TupleA==TupleB)"
   ]
  },
  {
   "cell_type": "code",
   "execution_count": 24,
   "id": "4a83ea21",
   "metadata": {},
   "outputs": [
    {
     "name": "stdout",
     "output_type": "stream",
     "text": [
      " Enter total number of friends to create a telephone book10\n"
     ]
    },
    {
     "ename": "NameError",
     "evalue": "name 'l' is not defined",
     "output_type": "error",
     "traceback": [
      "\u001b[0;31m---------------------------------------------------------------------------\u001b[0m",
      "\u001b[0;31mNameError\u001b[0m                                 Traceback (most recent call last)",
      "\u001b[0;32m/tmp/ipykernel_2301/1079591722.py\u001b[0m in \u001b[0;36m<module>\u001b[0;34m\u001b[0m\n\u001b[1;32m      1\u001b[0m \u001b[0mphonebook\u001b[0m\u001b[0;34m=\u001b[0m\u001b[0mdict\u001b[0m\u001b[0;34m(\u001b[0m \u001b[0;34m)\u001b[0m\u001b[0;34m\u001b[0m\u001b[0;34m\u001b[0m\u001b[0m\n\u001b[1;32m      2\u001b[0m \u001b[0mn\u001b[0m\u001b[0;34m=\u001b[0m\u001b[0minput\u001b[0m\u001b[0;34m(\u001b[0m\u001b[0;34m\" Enter total number of friends to create a telephone book\"\u001b[0m\u001b[0;34m)\u001b[0m\u001b[0;34m\u001b[0m\u001b[0;34m\u001b[0m\u001b[0m\n\u001b[0;32m----> 3\u001b[0;31m \u001b[0mi\u001b[0m\u001b[0;34m=\u001b[0m\u001b[0ml\u001b[0m\u001b[0;34m\u001b[0m\u001b[0;34m\u001b[0m\u001b[0m\n\u001b[0m\u001b[1;32m      4\u001b[0m \u001b[0;32mwhile\u001b[0m \u001b[0mi\u001b[0m\u001b[0;34m<=\u001b[0m\u001b[0mn\u001b[0m\u001b[0;34m:\u001b[0m\u001b[0;34m\u001b[0m\u001b[0;34m\u001b[0m\u001b[0m\n\u001b[1;32m      5\u001b[0m     \u001b[0ma\u001b[0m\u001b[0;34m=\u001b[0m\u001b[0mraw_input\u001b[0m\u001b[0;34m(\u001b[0m\u001b[0;34m\"enter name\"\u001b[0m\u001b[0;34m)\u001b[0m\u001b[0;34m\u001b[0m\u001b[0;34m\u001b[0m\u001b[0m\n",
      "\u001b[0;31mNameError\u001b[0m: name 'l' is not defined"
     ]
    }
   ],
   "source": [
    "phonebook=dict( ) \n",
    "n=input(\" Enter total number of friends to create a telephone book\") \n",
    "i=l \n",
    "while i<=n: \n",
    "    a=raw_input(\"enter name\") \n",
    "    b=raw_input(\"enter phone number\") \n",
    "    phonebook[a]=b \n",
    "    i=i+l \n",
    "    name=raw_input(\"enter friend’s name to search for\") \n",
    "    f=0 \n",
    "    l=phonebook.keys( ) \n",
    "    for i in l: \n",
    "        if(cmp(i,name) == 0): \n",
    "            print (\"Phone number= \",phonebook[i] )\n",
    "            f=l \n",
    "            if (f==0): \n",
    "                print (\"Given name not exist\")"
   ]
  },
  {
   "cell_type": "code",
   "execution_count": 30,
   "id": "8440bb7c",
   "metadata": {},
   "outputs": [
    {
     "name": "stdout",
     "output_type": "stream",
     "text": [
      "Enter name of friend :-j\n",
      "Enter phone number of friend :-1\n",
      "Enter Q to quit otherwise N :-n\n",
      "Enter name of friend :-r\n",
      "Enter phone number of friend :-2\n",
      "Enter Q to quit otherwise N :-q\n",
      "\n",
      "a :-\n",
      "{'j': 1, 'r': 2}\n",
      "\n",
      "b :-\n",
      "Enter name of friend :-j\n",
      "Enter phone number of friend :-1\n",
      "{'j': 1, 'r': 2}\n",
      "\n",
      "c :-\n",
      "Enter name of that friend which you want to delete :-r\n",
      "{'j': 1}\n",
      "\n",
      "d :-\n",
      "Enter name of that friend which you want to change his phone number :-j\n",
      "Enter phone number of friend :-2\n",
      "{'j': 2}\n",
      "\n",
      "e :-\n",
      "Enter name of that friend which you want to search :-r\n",
      "Not Found \n",
      "\n",
      "f :-\n",
      "{'j': 2}\n"
     ]
    }
   ],
   "source": [
    "dic = { }\n",
    "while True :\n",
    "    name = input( \"Enter name of friend :-\")\n",
    "    phone = int( input(\"Enter phone number of friend :-\" ))\n",
    "    dic [name] = phone\n",
    "    choise = input(\"Enter Q to quit otherwise N :-\")\n",
    "    if choise == \"Q\" or choise == \"q\" :\n",
    "        break\n",
    "\n",
    "#a\n",
    "print()\n",
    "print(\"a :-\")\n",
    "print(dic)\n",
    "\n",
    "#b\n",
    "print()\n",
    "print(\"b :-\")\n",
    "name = input( \"Enter name of friend :-\")\n",
    "phone = int(input(\"Enter phone number of friend :-\" ))\n",
    "dic [name] = phone\n",
    "print(dic)\n",
    "\n",
    "#c\n",
    "print()\n",
    "print(\"c :-\")\n",
    "name = input( \"Enter name of that friend which you want to delete :-\")\n",
    "del dic[ name ]\n",
    "print(dic)\n",
    "\n",
    "#d\n",
    "print()\n",
    "print(\"d :-\")\n",
    "name = input( \"Enter name of that friend which you want to change his phone number :-\")\n",
    "phone = int(input (\"Enter phone number of friend :-\" ))\n",
    "del dic [ name]\n",
    "dic[ name ] = phone\n",
    "print(dic)\n",
    "\n",
    "#e\n",
    "print()\n",
    "print(\"e :-\")\n",
    "name = input( \"Enter name of that friend which you want to search :-\")\n",
    "if name in dic :\n",
    "    print(\" Found\")\n",
    "else :\n",
    "    print( \"Not Found \")\n",
    "\n",
    "#f\n",
    "print()\n",
    "print(\"f :-\")\n",
    "newdic = {}\n",
    "key = list( dic.keys())\n",
    "key.sort()\n",
    "for i in key :\n",
    "    newdic [ i ] = dic [ i ]\n",
    "print(newdic)"
   ]
  },
  {
   "cell_type": "code",
   "execution_count": 29,
   "id": "328fdc77",
   "metadata": {},
   "outputs": [
    {
     "name": "stdout",
     "output_type": "stream",
     "text": [
      "number of friends:1\n",
      "Enter your name :gff\n",
      "Enter your  phone number:5\n"
     ]
    },
    {
     "ename": "TypeError",
     "evalue": "cannot unpack non-iterable int object",
     "output_type": "error",
     "traceback": [
      "\u001b[0;31m---------------------------------------------------------------------------\u001b[0m",
      "\u001b[0;31mTypeError\u001b[0m                                 Traceback (most recent call last)",
      "\u001b[0;32m/tmp/ipykernel_2301/1854119858.py\u001b[0m in \u001b[0;36m<module>\u001b[0;34m\u001b[0m\n\u001b[1;32m      4\u001b[0m     \u001b[0mname\u001b[0m \u001b[0;34m=\u001b[0m \u001b[0minput\u001b[0m\u001b[0;34m(\u001b[0m\u001b[0;34m\"Enter your name :\"\u001b[0m\u001b[0;34m)\u001b[0m\u001b[0;34m\u001b[0m\u001b[0;34m\u001b[0m\u001b[0m\n\u001b[1;32m      5\u001b[0m     \u001b[0mph_no\u001b[0m \u001b[0;34m=\u001b[0m \u001b[0meval\u001b[0m\u001b[0;34m(\u001b[0m\u001b[0minput\u001b[0m\u001b[0;34m(\u001b[0m\u001b[0;34m\"Enter your  phone number:\"\u001b[0m\u001b[0;34m)\u001b[0m\u001b[0;34m)\u001b[0m\u001b[0;34m\u001b[0m\u001b[0;34m\u001b[0m\u001b[0m\n\u001b[0;32m----> 6\u001b[0;31m     \u001b[0md\u001b[0m \u001b[0;34m=\u001b[0m \u001b[0;34m[\u001b[0m\u001b[0mname\u001b[0m\u001b[0;34m]\u001b[0m \u001b[0;34m=\u001b[0m \u001b[0mph_no\u001b[0m\u001b[0;34m\u001b[0m\u001b[0;34m\u001b[0m\u001b[0m\n\u001b[0m\u001b[1;32m      7\u001b[0m \u001b[0;34m\u001b[0m\u001b[0m\n\u001b[1;32m      8\u001b[0m \u001b[0mprint\u001b[0m \u001b[0;34m(\u001b[0m\u001b[0;34m)\u001b[0m\u001b[0;34m\u001b[0m\u001b[0;34m\u001b[0m\u001b[0m\n",
      "\u001b[0;31mTypeError\u001b[0m: cannot unpack non-iterable int object"
     ]
    }
   ],
   "source": [
    "\n",
    "d ={}\n",
    "num =int(input(\"number of friends:\"))\n",
    "for i in range(num):\n",
    "    name = input(\"Enter your name :\")\n",
    "    ph_no = eval(input(\"Enter your  phone number:\"))\n",
    "    d = [name] = ph_no\n",
    "\n",
    "print ()\n",
    "print(\"All friends details: \")\n",
    "print(d)\n",
    "\n",
    "\n",
    "print()\n",
    "print(\"f :-\")\n",
    "newdic = {}\n",
    "key = list( dic.keys())\n",
    "key.sort()\n",
    "for i in key :\n",
    "    newdic [ i ] = dic [ i ]\n",
    "print(newdic)"
   ]
  },
  {
   "cell_type": "code",
   "execution_count": 36,
   "id": "42002a22",
   "metadata": {},
   "outputs": [
    {
     "name": "stdout",
     "output_type": "stream",
     "text": [
      "3\n",
      "{'Orange': 1, 'Apple': 1, 'Grapes': 1}\n"
     ]
    }
   ],
   "source": [
    "Fruit ={ }\n",
    "L=['Orange','Apple','Grapes']\n",
    "for index in L:\n",
    "    if index in Fruit:\n",
    "        Fruit[index]+=1\n",
    "    else:\n",
    "        Fruit[index]=1\n",
    "print(len(Fruit))\n",
    "print(Fruit)"
   ]
  },
  {
   "cell_type": "code",
   "execution_count": null,
   "id": "11f8d001",
   "metadata": {},
   "outputs": [],
   "source": []
  }
 ],
 "metadata": {
  "kernelspec": {
   "display_name": "Python 3 (ipykernel)",
   "language": "python",
   "name": "python3"
  },
  "language_info": {
   "codemirror_mode": {
    "name": "ipython",
    "version": 3
   },
   "file_extension": ".py",
   "mimetype": "text/x-python",
   "name": "python",
   "nbconvert_exporter": "python",
   "pygments_lexer": "ipython3",
   "version": "3.9.7"
  }
 },
 "nbformat": 4,
 "nbformat_minor": 5
}
